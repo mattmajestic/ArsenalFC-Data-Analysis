{
 "cells": [
  {
   "cell_type": "markdown",
   "metadata": {},
   "source": [
    "# Arsenal FC Data Analysis\n",
    "\n",
    "<img src=\"https://upload.wikimedia.org/wikipedia/en/thumb/5/53/Arsenal_FC.svg/320px-Arsenal_FC.svg.png\" width=\"150\">\n",
    "\n",
    "This document provides an analysis of Arsenal FC's match results by season. It includes a stacked bar chart that visualizes the number of wins, draws, and losses for Arsenal across different seasons. The data used for this analysis is sourced from the \"Arsenal_EPL_dataset,\" which contains information about Arsenal matches from the 2017/18 season up to 28.02.2023.\n",
    "\n",
    "## Analysis Details\n",
    "The stacked bar chart displays the following information:\n",
    "- Wins: The number of matches won by Arsenal in each season.\n",
    "- Draws: The number of matches that ended in a draw for each season.\n",
    "- Losses: The number of matches lost by Arsenal in each season.\n",
    "\n",
    "This analysis aims to provide insights into Arsenal's performance in different seasons, allowing fans and analysts to better understand the club's historical record.\n",
    "\n",
    "*Author: Majestic Coding*\n",
    "\n",
    "## Subscribe and Stay Tuned! 🎉\n",
    "\n",
    "Join our YouTube channel for more tech tutorials and quick hacks!\n",
    "\n",
    "[![Subscribe to Our YouTube Channel](https://img.shields.io/badge/Subscribe-OurChannel-red)](https://www.youtube.com/@majesticcoding)\n",
    "\n",
    "Like, share, and subscribe to support the channel and stay updated with more exciting content. Enjoy your coding adventures! 🚀\n"
   ]
  },
  {
   "cell_type": "code",
   "execution_count": 1,
   "metadata": {},
   "outputs": [],
   "source": [
    "import pandas as pd\n",
    "from IPython.display import display, HTML\n",
    "from ydata_profiling import ProfileReport\n",
    "from ipywidgets import interact, widgets\n",
    "\n",
    "# Load the \"players\" and \"matches\" datasets\n",
    "players_df = pd.read_csv('players.csv')\n",
    "matches_df = pd.read_csv('matches.csv')\n",
    "\n",
    "# Create profile reports for both datasets with an empty configuration file\n",
    "players_profile = ProfileReport(players_df, title='Players Dataset EDA', config_file='empty_config.json')\n",
    "matches_profile = ProfileReport(matches_df, title='Matches Dataset EDA', config_file='empty_config.json')"
   ]
  },
  {
   "cell_type": "markdown",
   "metadata": {},
   "source": [
    "Players"
   ]
  },
  {
   "cell_type": "code",
   "execution_count": 2,
   "metadata": {},
   "outputs": [
    {
     "data": {
      "application/vnd.jupyter.widget-view+json": {
       "model_id": "bff51b532e5f44e9b967eaf11828b605",
       "version_major": 2,
       "version_minor": 0
      },
      "text/plain": [
       "Summarize dataset:   0%|          | 0/5 [00:00<?, ?it/s]"
      ]
     },
     "metadata": {},
     "output_type": "display_data"
    }
   ],
   "source": [
    "players_profile"
   ]
  },
  {
   "cell_type": "markdown",
   "metadata": {},
   "source": [
    "Matches"
   ]
  },
  {
   "cell_type": "code",
   "execution_count": null,
   "metadata": {},
   "outputs": [],
   "source": [
    "matches_profile"
   ]
  }
 ],
 "metadata": {
  "kernelspec": {
   "display_name": "Python 3",
   "language": "python",
   "name": "python3"
  },
  "language_info": {
   "codemirror_mode": {
    "name": "ipython",
    "version": 3
   },
   "file_extension": ".py",
   "mimetype": "text/x-python",
   "name": "python",
   "nbconvert_exporter": "python",
   "pygments_lexer": "ipython3",
   "version": "3.10.8"
  }
 },
 "nbformat": 4,
 "nbformat_minor": 2
}
